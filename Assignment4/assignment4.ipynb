{
 "cells": [
  {
   "cell_type": "markdown",
   "metadata": {
    "deletable": false,
    "editable": false,
    "nbgrader": {
     "checksum": "48770f8b5f5d3062d3badd51fcafc401",
     "grade": false,
     "grade_id": "cell-a6c4f74309fc2379",
     "locked": true,
     "schema_version": 1,
     "solution": false
    }
   },
   "source": [
    "# Assignment 4\n",
    "## Description\n",
    "In this assignment you must read in a file of metropolitan regions and associated sports teams from [assets/wikipedia_data.html](assets/wikipedia_data.html) and answer some questions about each metropolitan region. Each of these regions may have one or more teams from the \"Big 4\": NFL (football, in [assets/nfl.csv](assets/nfl.csv)), MLB (baseball, in [assets/mlb.csv](assets/mlb.csv)), NBA (basketball, in [assets/nba.csv](assets/nba.csv) or NHL (hockey, in [assets/nhl.csv](assets/nhl.csv)). Please keep in mind that all questions are from the perspective of the metropolitan region, and that this file is the \"source of authority\" for the location of a given sports team. Thus teams which are commonly known by a different area (e.g. \"Oakland Raiders\") need to be mapped into the metropolitan region given (e.g. San Francisco Bay Area). This will require some human data understanding outside of the data you've been given (e.g. you will have to hand-code some names, and might need to google to find out where teams are)!\n",
    "\n",
    "For each sport I would like you to answer the question: **what is the win/loss ratio's correlation with the population of the city it is in?** Win/Loss ratio refers to the number of wins over the number of wins plus the number of losses. Remember that to calculate the correlation with [`pearsonr`](https://docs.scipy.org/doc/scipy/reference/generated/scipy.stats.pearsonr.html), so you are going to send in two ordered lists of values, the populations from the wikipedia_data.html file and the win/loss ratio for a given sport in the same order. Average the win/loss ratios for those cities which have multiple teams of a single sport. Each sport is worth an equal amount in this assignment (20%\\*4=80%) of the grade for this assignment. You should only use data **from year 2018** for your analysis -- this is important!\n",
    "\n",
    "## Notes\n",
    "\n",
    "1. Do not include data about the MLS or CFL in any of the work you are doing, we're only interested in the Big 4 in this assignment.\n",
    "2. I highly suggest that you first tackle the four correlation questions in order, as they are all similar and worth the majority of grades for this assignment. This is by design!\n",
    "3. It's fair game to talk with peers about high level strategy as well as the relationship between metropolitan areas and sports teams. However, do not post code solving aspects of the assignment (including such as dictionaries mapping areas to teams, or regexes which will clean up names).\n",
    "4. There may be more teams than the assert statements test, remember to collapse multiple teams in one city into a single value!"
   ]
  },
  {
   "cell_type": "markdown",
   "metadata": {
    "deletable": false,
    "editable": false,
    "nbgrader": {
     "checksum": "369ff9ecf0ee04640574205cbc697f94",
     "grade": false,
     "grade_id": "cell-712b2b5da63d4505",
     "locked": true,
     "schema_version": 1,
     "solution": false
    }
   },
   "source": [
    "## Question 1\n",
    "For this question, calculate the win/loss ratio's correlation with the population of the city it is in for the **NHL** using **2018** data."
   ]
  },
  {
   "cell_type": "code",
   "execution_count": 1,
   "metadata": {
    "deletable": false,
    "nbgrader": {
     "checksum": "1cac4803b02502929f5b1612d48db2b5",
     "grade": false,
     "grade_id": "cell-69b16e4386e58030",
     "locked": false,
     "schema_version": 1,
     "solution": true
    }
   },
   "outputs": [],
   "source": [
    "import pandas as pd\n",
    "import numpy as np\n",
    "import scipy.stats as stats\n",
    "import re\n",
    "\n",
    "nhl_df=pd.read_csv(\"assets/nhl.csv\")\n",
    "cities=pd.read_html(\"assets/wikipedia_data.html\")[1]\n",
    "cities=cities.iloc[:-1,[0,3,5,6,7,8]]\n",
    "\n",
    "def common_correlation(cities, big4_df, common_df, replaceMap):\n",
    "    \n",
    "    \n",
    "    cities.rename(columns={'Metropolitan area':'MA','Population (2016 est.)[8]':'Population'},inplace=True)\n",
    "    df= cities\n",
    "    #pd.set_option('display.max_rows', len(df))\n",
    "    #print(df)\n",
    "    regions=df['MA']\n",
    "    regions = regions.str.replace('^(?P<ONE>.*)–.*$',lambda m: m.group('ONE')).str.replace('^(?P<ONE>.*), D\\.C\\.$',lambda m: m.group('ONE')).str.replace('^(?P<ONE>.*) Bay Area$',lambda m: m.group('ONE')).str.replace('^(?P<ONE>.*) Area$',lambda m: m.group('ONE')).str.replace('^(?P<ONE>.*) City$',lambda m: m.group('ONE'))\n",
    "\n",
    "    df = big4_df\n",
    "    df = df.replace(r'^\\s*$', np.NaN, regex=True).replace(r'^.*—.*$', np.NaN, regex=True).replace(r'^$', np.NaN, regex=True)\n",
    "    df = df.str.replace(r'^(?P<ONE>.*)\\[.*\\](?P<TWO>.*)$', lambda m: m.group('ONE') + m.group('TWO'), regex=True)\n",
    "    #df = df.str.findall('([A-Z0-9][0-9a-z]+ [A-Z0-9][0-9a-z]+|[A-Z0-9][0-9a-z]+)').apply(lambda x:pd.Series(x))\n",
    "    findf = df.str.findall('([A-Z0-9][0-9a-z]+ [A-Z0-9][0-9a-z]+|[A-Z0-9][0-9a-z]+)').apply(lambda x:pd.Series(x))\n",
    "    \n",
    "    tdf = cities\n",
    "    tdf['regions']= regions\n",
    "    \n",
    "    \n",
    "    #tdf[['team1','team2','team3']] = pd.DataFrame({'team1':df[0],'team2':df[1],'team3':df[2]})\n",
    "    #df = tdf[['regions','Population','team1','team2','team3']]\n",
    "    #df = pd.melt(df, id_vars=['regions','Population'], value_vars=['team1','team2','team3'], value_name='team')\n",
    "    \n",
    "    \n",
    "    colname = ['team1','team2','team3']\n",
    "    tdf[[colname[x] for x in findf]] = pd.DataFrame({x:findf[x] for x in findf})\n",
    "    df= tdf[['regions','Population']]\n",
    "    df[[colname[x] for x in findf]] = tdf[[colname[x] for x in findf]]\n",
    "    df = pd.melt(df, id_vars=['regions','Population'], value_vars=[colname[x] for x in findf], value_name='team')\n",
    "    \n",
    "    \n",
    "    df=df.dropna()\n",
    "    df= df[['regions','Population','team']]\n",
    "    df['team']= df['regions'] + ' ' + df['team'] \n",
    "    df['team'] = df['team'].replace(replaceMap)\n",
    "    df['Population']=df['Population'].apply(pd.to_numeric)\n",
    "    #pd.set_option('display.max_rows', len(df))\n",
    "    #print(df)\n",
    "    df1=df\n",
    "    population_by_region = df.groupby(by='regions').mean()['Population']\n",
    "    #print(population_by_region)\n",
    "\n",
    "    repl = lambda m: m.group('ONE')\n",
    "    df = common_df\n",
    "    df = df[~ (df['team'].str.contains('Division') | (df['team'].str.contains('AFC ')) | (df['team'].str.contains('NFC '))) ][df['year']==2018]\n",
    "    df[['W','L']] = df[['W','L']].apply(pd.to_numeric)\n",
    "    df = pd.DataFrame({'team':df['team'].str.replace('^(?P<ONE>.*)\\s\\([0-9]+\\)$',repl, regex=True).str.replace('^(?P<ONE>[^\\*]+)\\**$',repl, regex=True).str.replace('^(?P<ONE>[^\\+]+)\\+*$',repl, regex=True),'ratio':df['W']/(df['W']+ df['L'])})\n",
    "    #pd.set_option('display.max_rows', len(df))\n",
    "    #print(df)\n",
    "    group_df = df1.merge(df, how='left', on='team').groupby(by='regions').mean()\n",
    "    win_loss_by_region=group_df['ratio']\n",
    "    #print(win_loss_by_region)\n",
    "\n",
    "    FalseMatrix = win_loss_by_region.notnull()\n",
    "    win_loss_by_region = win_loss_by_region[FalseMatrix].tolist()\n",
    "    population_by_region = population_by_region[FalseMatrix].tolist()\n",
    "\n",
    "    return population_by_region, win_loss_by_region\n",
    "\n",
    "\n",
    "\n",
    "def nhl_correlation(): \n",
    "    # YOUR CODE HERE\n",
    "\n",
    "    \n",
    "    replaceMap = {'Las Vegas Golden Knights':'Vegas Golden Knights',\n",
    "                                  'Tampa Lightning':'Tampa Bay Lightning',\n",
    "                                  'Raleigh Hurricanes':'Carolina Hurricanes',\n",
    "                                  'Miami Panthers':'Florida Panthers',\n",
    "                                  'San Francisco Sharks':'San Jose Sharks',\n",
    "                                  'Denver Avalanche':'Colorado Avalanche',\n",
    "                                  'Minneapolis Wild':'Minnesota Wild',\n",
    "                                  'Phoenix Coyotes':'Arizona Coyotes',\n",
    "                                  'Los Angeles Ducks':'Anaheim Ducks',\n",
    "                                  'New York Devils':'New Jersey Devils'\n",
    "                                 }\n",
    "    #\n",
    "    population_by_region, win_loss_by_region = common_correlation(cities, cities['NHL'], nhl_df, replaceMap)\n",
    "    assert len(population_by_region) == len(win_loss_by_region), \"Q1: Your lists must be the same length\"\n",
    "    assert len(population_by_region) == 28, \"Q1: There should be 28 teams being analysed for NHL\"\n",
    "    ans = stats.pearsonr(population_by_region, win_loss_by_region)[0]\n",
    "    #print (ans)\n",
    "\n",
    "   \n",
    "    return ans"
   ]
  },
  {
   "cell_type": "code",
   "execution_count": null,
   "metadata": {
    "deletable": false,
    "editable": false,
    "nbgrader": {
     "checksum": "52a581df513c71153e105b93764cda4b",
     "grade": true,
     "grade_id": "cell-ebe0b2dfe1067e63",
     "locked": true,
     "points": 20,
     "schema_version": 1,
     "solution": false
    }
   },
   "outputs": [],
   "source": []
  },
  {
   "cell_type": "markdown",
   "metadata": {
    "deletable": false,
    "editable": false,
    "nbgrader": {
     "checksum": "988912cae4968d81473f46d783e79c16",
     "grade": false,
     "grade_id": "cell-cb964e690298b71d",
     "locked": true,
     "schema_version": 1,
     "solution": false
    }
   },
   "source": [
    "## Question 2\n",
    "For this question, calculate the win/loss ratio's correlation with the population of the city it is in for the **NBA** using **2018** data."
   ]
  },
  {
   "cell_type": "code",
   "execution_count": 2,
   "metadata": {
    "deletable": false,
    "nbgrader": {
     "checksum": "9394222aafc8ccab0a228098ba0d6010",
     "grade": false,
     "grade_id": "cell-5a5f21279e3d3572",
     "locked": false,
     "schema_version": 1,
     "solution": true
    }
   },
   "outputs": [],
   "source": [
    "import pandas as pd\n",
    "import numpy as np\n",
    "import scipy.stats as stats\n",
    "import re\n",
    "\n",
    "nba_df=pd.read_csv(\"assets/nba.csv\")\n",
    "cities=pd.read_html(\"assets/wikipedia_data.html\")[1]\n",
    "cities=cities.iloc[:-1,[0,3,5,6,7,8]]\n",
    "\n",
    "def nba_correlation():\n",
    "    # YOUR CODE HERE\n",
    "    replaceMap = {'Indianapolis Pacers':'Indiana Pacers',\n",
    "                                  'Salt Lake Jazz':'Utah Jazz',\n",
    "                                  'New York Nets':'Brooklyn Nets',\n",
    "                                  'San Francisco Warriors':'Golden State Warriors',\n",
    "                                  'Minneapolis Timberwolves':'Minnesota Timberwolves',\n",
    "                                  'Oklahoma Thunder':'Oklahoma City Thunder'\n",
    "                                 }\n",
    "    #raise NotImplementedError()\n",
    "    common_df = nba_df\n",
    "    big4_df = cities['NBA']\n",
    "\n",
    "\n",
    "#    cities.rename(columns={'Metropolitan area':'MA','Population (2016 est.)[8]':'Population'},inplace=True)\n",
    "#    df= cities\n",
    "#    regions=cities['MA']\n",
    "#    regions = regions.str.replace('^(?P<ONE>.*)–.*$',lambda m: m.group('ONE')).str.replace('^(?P<ONE>.*), D\\.C\\.$',lambda m: m.group('ONE')).str.replace('^(?P<ONE>.*) Bay Area$',lambda m: m.group('ONE')).str.replace('^(?P<ONE>.*) Area$',lambda m: m.group('ONE')).str.replace('^(?P<ONE>.*) City$',lambda m: m.group('ONE'))\n",
    "\n",
    "#    df = common_df\n",
    "#    df = df.replace(r'^\\s*$', np.NaN, regex=True).replace(r'^.*—.*$', np.NaN, regex=True).replace(r'^$', np.NaN, regex=True)\n",
    "#    df = df.str.replace(r'^(?P<ONE>.*)\\[.*\\](?P<TWO>.*)$', lambda m: m.group('ONE') + m.group('TWO'), regex=True)\n",
    "#    findf = df.str.findall('([A-Z0-9][0-9a-z]+ [A-Z0-9][0-9a-z]+|[A-Z0-9][0-9a-z]+)').apply(lambda x:pd.Series(x))\n",
    "#    tdf = cities\n",
    "#    tdf['regions']= regions\n",
    "#    colname = ['team1','team2','team3']\n",
    "#    tdf[[colname[x] for x in findf]] = pd.DataFrame({x:findf[x] for x in findf})\n",
    "#    df= tdf[['regions','Population']]\n",
    "#    df[[colname[x] for x in findf]] = tdf[[colname[x] for x in findf]]\n",
    "#    df = pd.melt(df, id_vars=['regions','Population'], value_vars=[colname[x] for x in findf], value_name='team')\n",
    "#    df=df.dropna()\n",
    "#    df= df[['regions','Population','team']]\n",
    "#    df['team']= df['regions'] + ' ' + df['team'] \n",
    "#    df['team'] = df['team'].replace(replaceMap)\n",
    "#    df['Population']=df['Population'].apply(pd.to_numeric)\n",
    "#    df1=df\n",
    "#    population_by_region = df.groupby(by='regions').mean()['Population']\n",
    "#    print(population_by_region)\n",
    "\n",
    "#    repl = lambda m: m.group('ONE')\n",
    "#    df = common_df\n",
    "#    df = df[~ df['team'].str.contains('Division')][df['year']==2018]\n",
    "#    df[['W','L']] = df[['W','L']].apply(pd.to_numeric)\n",
    "#    df = pd.DataFrame({'team':df['team'].str.replace('^(?P<ONE>.*)\\s\\([0-9]+\\)$',repl, regex=True).str.replace('^(?P<ONE>[^\\*]+)\\**$',repl, regex=True),'ratio':df['W']/(df['W']+ df['L'])})\n",
    "\n",
    "#    group_df = df1.merge(df, how='left', on='team').groupby(by='regions').mean()\n",
    "#    win_loss_by_region=group_df['ratio']\n",
    "\n",
    "#    FalseMatrix = win_loss_by_region.notnull()\n",
    "#    win_loss_by_region = win_loss_by_region[FalseMatrix].tolist()\n",
    "#    population_by_region = population_by_region[FalseMatrix].tolist()\n",
    "\n",
    "#    ans = stats.pearsonr(population_by_region, win_loss_by_region)[0]    \n",
    "    \n",
    "    population_by_region, win_loss_by_region = common_correlation(cities, big4_df, common_df, replaceMap)\n",
    "    assert len(population_by_region) == len(win_loss_by_region), \"Q2: Your lists must be the same length\"\n",
    "    assert len(population_by_region) == 28, \"Q2: There should be 28 teams being analysed for NBA\"\n",
    "    ans = stats.pearsonr(population_by_region, win_loss_by_region)[0] \n",
    "    #print(ans)\n",
    "\n",
    "\n",
    "    return ans"
   ]
  },
  {
   "cell_type": "code",
   "execution_count": null,
   "metadata": {
    "deletable": false,
    "editable": false,
    "nbgrader": {
     "checksum": "bbdeb8eb22f525a34c10dc8798324e42",
     "grade": true,
     "grade_id": "cell-e573b2b4a282b470",
     "locked": true,
     "points": 20,
     "schema_version": 1,
     "solution": false
    }
   },
   "outputs": [],
   "source": []
  },
  {
   "cell_type": "markdown",
   "metadata": {
    "deletable": false,
    "editable": false,
    "nbgrader": {
     "checksum": "1a1a5809f675ca033086422007cd73bd",
     "grade": false,
     "grade_id": "cell-96e15e4335df78f4",
     "locked": true,
     "schema_version": 1,
     "solution": false
    }
   },
   "source": [
    "## Question 3\n",
    "For this question, calculate the win/loss ratio's correlation with the population of the city it is in for the **MLB** using **2018** data."
   ]
  },
  {
   "cell_type": "code",
   "execution_count": 3,
   "metadata": {
    "deletable": false,
    "nbgrader": {
     "checksum": "27e8c0da6c9fa0dffc10488314335b6c",
     "grade": false,
     "grade_id": "cell-33b00fc3f3467b0c",
     "locked": false,
     "schema_version": 1,
     "solution": true
    }
   },
   "outputs": [],
   "source": [
    "import pandas as pd\n",
    "import numpy as np\n",
    "import scipy.stats as stats\n",
    "import re\n",
    "\n",
    "mlb_df=pd.read_csv(\"assets/mlb.csv\")\n",
    "cities=pd.read_html(\"assets/wikipedia_data.html\")[1]\n",
    "cities=cities.iloc[:-1,[0,3,5,6,7,8]]\n",
    "\n",
    "\n",
    "\n",
    "def mlb_correlation(): \n",
    "    # YOUR CODE HERE\n",
    "    #raise NotImplementedError()\n",
    "    \n",
    "\n",
    "    replaceMap = {'Kansas Royals':'Kansas City Royals',\n",
    "                                      'Tampa Rays':'Tampa Bay Rays',\n",
    "                                      'Denver Rockies':'Colorado Rockies',\n",
    "                                      'Minneapolis Twins':'Minnesota Twins',\n",
    "                                      'Phoenix Diamondbacks':'Arizona Diamondbacks',\n",
    "                                      'Dallas Rangers':'Texas Rangers',\n",
    "                                      'San Francisco Athletics':'Oakland Athletics'\n",
    "                                     }\n",
    "        #\n",
    "    population_by_region, win_loss_by_region = common_correlation(cities, cities['MLB'], mlb_df, replaceMap)\n",
    "    ans = stats.pearsonr(population_by_region, win_loss_by_region)[0]\n",
    "    #print(ans)    \n",
    "    #population_by_region = [] # pass in metropolitan area population from cities\n",
    "    #win_loss_by_region = [] # pass in win/loss ratio from mlb_df in the same order as cities[\"Metropolitan area\"]\n",
    "\n",
    "    assert len(population_by_region) == len(win_loss_by_region), \"Q3: Your lists must be the same length\"\n",
    "    assert len(population_by_region) == 26, \"Q3: There should be 26 teams being analysed for MLB\"\n",
    "\n",
    "    return ans"
   ]
  },
  {
   "cell_type": "code",
   "execution_count": null,
   "metadata": {
    "deletable": false,
    "editable": false,
    "nbgrader": {
     "checksum": "cda33b094ba19ccc37a481e0dd29e0bc",
     "grade": true,
     "grade_id": "cell-764d4476f425c5a2",
     "locked": true,
     "points": 20,
     "schema_version": 1,
     "solution": false
    }
   },
   "outputs": [],
   "source": []
  },
  {
   "cell_type": "markdown",
   "metadata": {
    "deletable": false,
    "editable": false,
    "nbgrader": {
     "checksum": "6977a6da9ed6d8b7a0b7e37bbeda709b",
     "grade": false,
     "grade_id": "cell-793df6c04dfb126e",
     "locked": true,
     "schema_version": 1,
     "solution": false
    }
   },
   "source": [
    "## Question 4\n",
    "For this question, calculate the win/loss ratio's correlation with the population of the city it is in for the **NFL** using **2018** data."
   ]
  },
  {
   "cell_type": "code",
   "execution_count": 5,
   "metadata": {
    "deletable": false,
    "nbgrader": {
     "checksum": "c4914ad1e119278ec2bd567c52640b66",
     "grade": false,
     "grade_id": "cell-8ccebc209aeec8d9",
     "locked": false,
     "schema_version": 1,
     "solution": true
    }
   },
   "outputs": [],
   "source": [
    "import pandas as pd\n",
    "import numpy as np\n",
    "import scipy.stats as stats\n",
    "import re\n",
    "\n",
    "nfl_df=pd.read_csv(\"assets/nfl.csv\")\n",
    "cities=pd.read_html(\"assets/wikipedia_data.html\")[1]\n",
    "cities=cities.iloc[:-1,[0,3,5,6,7,8]]\n",
    "\n",
    "\n",
    "\n",
    "def nfl_correlation(): \n",
    "    # YOUR CODE HERE\n",
    "    #Tampa Buccaneers  Minnesota Vikings Charlotte Panthers Kansas Chiefs Arizona Cardinals Tennessee Titans\n",
    "    replaceMap = {'Kansas Chiefs':'Kansas City Chiefs',\n",
    "                                      'Tampa Buccaneers':'Tampa Bay Buccaneers',\n",
    "                                      'Charlotte Panthers':'Carolina Panthers',\n",
    "                                      'Minneapolis Vikings':'Minnesota Vikings',\n",
    "                                      'Phoenix Cardinals':'Arizona Cardinals',\n",
    "                                      'Nashville Titans':'Tennessee Titans',\n",
    "                                      'Boston Patriots':'New England Patriots'\n",
    "                                     }\n",
    "        #\n",
    "    population_by_region, win_loss_by_region = common_correlation(cities, cities['NFL'], nfl_df, replaceMap)\n",
    "    ans = stats.pearsonr(population_by_region, win_loss_by_region)[0]\n",
    "    print(ans)        \n",
    "    #population_by_region = [] # pass in metropolitan area population from cities\n",
    "    #win_loss_by_region = [] # pass in win/loss ratio from nfl_df in the same order as cities[\"Metropolitan area\"]\n",
    "\n",
    "    assert len(population_by_region) == len(win_loss_by_region), \"Q4: Your lists must be the same length\"\n",
    "    assert len(population_by_region) == 29, \"Q4: There should be 29 teams being analysed for NFL\"\n",
    "\n",
    "    return ans"
   ]
  },
  {
   "cell_type": "code",
   "execution_count": null,
   "metadata": {
    "deletable": false,
    "editable": false,
    "nbgrader": {
     "checksum": "e9415d6399aa49e3a1a60813afdefa3b",
     "grade": true,
     "grade_id": "cell-de7b148b9554dbda",
     "locked": true,
     "points": 20,
     "schema_version": 1,
     "solution": false
    }
   },
   "outputs": [],
   "source": []
  },
  {
   "cell_type": "markdown",
   "metadata": {
    "deletable": false,
    "editable": false,
    "nbgrader": {
     "checksum": "b02d5cd3273f561e4ae939bb2a41740c",
     "grade": false,
     "grade_id": "cell-97b49d8639e908c4",
     "locked": true,
     "schema_version": 1,
     "solution": false
    }
   },
   "source": [
    "## Question 5\n",
    "In this question I would like you to explore the hypothesis that **given that an area has two sports teams in different sports, those teams will perform the same within their respective sports**. How I would like to see this explored is with a series of paired t-tests (so use [`ttest_rel`](https://docs.scipy.org/doc/scipy/reference/generated/scipy.stats.ttest_rel.html)) between all pairs of sports. Are there any sports where we can reject the null hypothesis? Again, average values where a sport has multiple teams in one region. Remember, you will only be including, for each sport, cities which have teams engaged in that sport, drop others as appropriate. This question is worth 20% of the grade for this assignment."
   ]
  },
  {
   "cell_type": "code",
   "execution_count": 87,
   "metadata": {
    "deletable": false,
    "nbgrader": {
     "checksum": "6d78c961eb66f8d8c81f06d33ae8f393",
     "grade": false,
     "grade_id": "cell-92f25f44b8d1179f",
     "locked": false,
     "schema_version": 1,
     "solution": true
    }
   },
   "outputs": [],
   "source": [
    "import pandas as pd\n",
    "import numpy as np\n",
    "import scipy.stats as stats\n",
    "import re\n",
    "\n",
    "mlb_df=pd.read_csv(\"assets/mlb.csv\")\n",
    "nhl_df=pd.read_csv(\"assets/nhl.csv\")\n",
    "nba_df=pd.read_csv(\"assets/nba.csv\")\n",
    "nfl_df=pd.read_csv(\"assets/nfl.csv\")\n",
    "cities=pd.read_html(\"assets/wikipedia_data.html\")[1]\n",
    "cities=cities.iloc[:-1,[0,3,5,6,7,8]]\n",
    "\n",
    "def sports_team_performance():\n",
    "    # YOUR CODE HERE\n",
    "    raise NotImplementedError()\n",
    "    \n",
    "    # Note: p_values is a full dataframe, so df.loc[\"NFL\",\"NBA\"] should be the same as df.loc[\"NBA\",\"NFL\"] and\n",
    "    # df.loc[\"NFL\",\"NFL\"] should return np.nan\n",
    "    sports = ['NFL', 'NBA', 'NHL', 'MLB']\n",
    "    p_values = pd.DataFrame({k:np.nan for k in sports}, index=sports)\n",
    "    \n",
    "    assert abs(p_values.loc[\"NBA\", \"NHL\"] - 0.02) <= 1e-2, \"The NBA-NHL p-value should be around 0.02\"\n",
    "    assert abs(p_values.loc[\"MLB\", \"NFL\"] - 0.80) <= 1e-2, \"The MLB-NFL p-value should be around 0.80\"\n",
    "    return p_values"
   ]
  },
  {
   "cell_type": "code",
   "execution_count": null,
   "metadata": {
    "deletable": false,
    "editable": false,
    "nbgrader": {
     "checksum": "2a596ab421a45cc01168d10e8fbb8f89",
     "grade": true,
     "grade_id": "cell-fb4b9cb5ff4570a6",
     "locked": true,
     "points": 20,
     "schema_version": 1,
     "solution": false
    }
   },
   "outputs": [],
   "source": []
  }
 ],
 "metadata": {
  "coursera": {
   "schema_names": [
    "mooc_adswpy_1_v2_assignment4"
   ]
  },
  "kernelspec": {
   "display_name": "Python 3",
   "language": "python",
   "name": "python3"
  },
  "language_info": {
   "codemirror_mode": {
    "name": "ipython",
    "version": 3
   },
   "file_extension": ".py",
   "mimetype": "text/x-python",
   "name": "python",
   "nbconvert_exporter": "python",
   "pygments_lexer": "ipython3",
   "version": "3.7.3"
  }
 },
 "nbformat": 4,
 "nbformat_minor": 4
}
